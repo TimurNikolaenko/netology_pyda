{
 "cells": [
  {
   "cell_type": "markdown",
   "metadata": {},
   "source": [
    "**Задание 1**. Даны 2 строки: *long_phrase* и *short_phrase*. \n",
    "Напишите код, который проверяет действительно ли длинная фраза *long_phrase* длиннее короткой *short_phrase*. И выводит *True* или *False* в зависимости от результата сравнения."
   ]
  },
  {
   "cell_type": "code",
   "execution_count": 5,
   "metadata": {},
   "outputs": [
    {
     "name": "stdout",
     "output_type": "stream",
     "text": [
      "62\n",
      "61\n"
     ]
    },
    {
     "data": {
      "text/plain": [
       "True"
      ]
     },
     "execution_count": 5,
     "metadata": {},
     "output_type": "execute_result"
    }
   ],
   "source": [
    "long_phrase = 'Насколько проще было бы писать программы, если бы не заказчики'\n",
    "short_phrase = '640Кб должно хватить для любых задач. Билл Гейтс (по легенде)'\n",
    "print(len(long_phrase))\n",
    "print(len(short_phrase))\n",
    "len(long_phrase) > len(short_phrase)"
   ]
  },
  {
   "cell_type": "code",
   "execution_count": null,
   "metadata": {},
   "outputs": [],
   "source": []
  },
  {
   "cell_type": "markdown",
   "metadata": {},
   "source": [
    "**Задание 2**. Дано значение объема файла в байтах. Напишите перевод этого значения в мегабайты в формате: \"*Объем файла равен 213.68Mb*\""
   ]
  },
  {
   "cell_type": "code",
   "execution_count": 16,
   "metadata": {},
   "outputs": [
    {
     "name": "stdout",
     "output_type": "stream",
     "text": [
      "объем файла равен 213.68 Mb\n"
     ]
    }
   ],
   "source": [
    "file_v = 213680000\n",
    "print('объем файла равен', file_v / 1e+6 , 'Mb')"
   ]
  },
  {
   "cell_type": "markdown",
   "metadata": {},
   "source": [
    "**Задание 3**. Разработать приложение для определения знака зодиака по дате рождения. Пример:\n",
    "\n",
    "Введите месяц: март\n",
    "\n",
    "Введите число: 6\n",
    "\n",
    "Вывод:\n",
    "Рыбы"
   ]
  },
  {
   "cell_type": "code",
   "execution_count": 38,
   "metadata": {},
   "outputs": [
    {
     "name": "stdout",
     "output_type": "stream",
     "text": [
      "Введите месяцФевраль\n",
      "Введите дату23\n",
      "Введите правильный месц с маленькой буквы\n"
     ]
    }
   ],
   "source": [
    "b_month = input('Введите месяц')\n",
    "b_date = int(input('Введите дату'))\n",
    "if b_month == 'март':\n",
    "    if 21 <= b_date <= 31:\n",
    "        print('Овен')\n",
    "    else:\n",
    "        print('Рыбы')\n",
    "elif b_month == 'апрель':\n",
    "    if 21 <= b_date <= 31:\n",
    "        print('Телец')\n",
    "    else:\n",
    "        print('Овен')\n",
    "elif b_month == 'май':\n",
    "    if 21 <= b_date <= 31:\n",
    "        print('Близнецы')\n",
    "    else:\n",
    "        print('Телец')\n",
    "elif b_month == 'июнь':\n",
    "    if 22 <= b_date <= 31:\n",
    "        print('Рак')\n",
    "    else:\n",
    "        print('Близнецы')\n",
    "elif b_month == 'июль':\n",
    "    if 23 <= b_date <= 31:\n",
    "        print('Лев')\n",
    "    else:\n",
    "        print('Рак')\n",
    "elif b_month == 'август':\n",
    "    if 24 <= b_date <= 31:\n",
    "        print('Дева')\n",
    "    else:\n",
    "        print('Лев')\n",
    "elif b_month == 'сентябрь':\n",
    "    if 24 <= b_date <= 31:\n",
    "        print('Весы')\n",
    "    else:\n",
    "        print('Дева')\n",
    "elif b_month == 'октябрь':\n",
    "    if 24 <= b_date <= 31:\n",
    "        print('Скорпион')\n",
    "    else:\n",
    "        print('Весы')\n",
    "elif b_month == 'ноябрь':\n",
    "    if 23 <= b_date <= 31:\n",
    "        print('Стрелец')\n",
    "    else:\n",
    "        print('Скорпион')\n",
    "elif b_month == 'декабрь':\n",
    "    if 22 <= b_date <= 31:\n",
    "        print('Козерог')\n",
    "    else:\n",
    "        print('Стрелец')\n",
    "elif b_month == 'январь':\n",
    "    if 21 <= b_date <= 31:\n",
    "        print('Водолей')\n",
    "    else:\n",
    "        print('Козерог')\n",
    "elif b_month == 'февраль':\n",
    "    if 21 <= b_date <= 31:\n",
    "        print('Рыбы')\n",
    "    else:\n",
    "        print('Водолей')\n",
    "else: \n",
    "    print('Введите правильный месц с маленькой буквы')"
   ]
  },
  {
   "cell_type": "markdown",
   "metadata": {},
   "source": [
    "**Задание 4**. Нужно разработать приложение для финансового планирования.\n",
    "Приложение учитывает сколько уходит на ипотеку, \"на жизнь\" и сколько нужно отложить на пенсию.\n",
    "Пользователь вводит:\n",
    "- заработанную плату в месяц.\n",
    "- сколько процентов от ЗП уходит на ипотеку.\n",
    "- сколько процентов от ЗП уходит \"на жизнь\".\n",
    "- сколько раз приходит премия в год.\n",
    "\n",
    "Остальная часть заработанной платы откладывается на пенсию.\n",
    "\n",
    "Также пользователю приходит премия в размере зарплаты, от которой половина уходит на отпуск, а вторая половина откладывается.\n",
    "\n",
    "Программа должна учитывать сколько премий было в год.\n",
    "\n",
    "Нужно вывести сколько денег тратит пользователь на ипотеку и сколько он накопит за год.\n",
    "\n",
    "Пример:\n",
    "\n",
    "Введите заработанную плату в месяц: 100000\n",
    "\n",
    "Введите сколько процентов уходит на ипотеку: 30\n",
    "\n",
    "Введите сколько процентов уходит на жизнь: 50\n",
    "\n",
    "Введите количество премий за год: 2\n",
    "\n",
    "Вывод:\n",
    "На ипотеку было потрачено: 360000 рублей\n",
    "Было накоплено: 340000 рублей"
   ]
  },
  {
   "cell_type": "code",
   "execution_count": 48,
   "metadata": {},
   "outputs": [
    {
     "name": "stdout",
     "output_type": "stream",
     "text": [
      "Введите заработную плату в месяц100000\n",
      "Введите сколько процентов уходит на ипотеку30\n",
      "Введите сколько процентов уходит на жизнь50\n",
      "Введите количество премий за год0\n",
      "На ипотеку было потречено: 360000.0\n",
      "Было накоплено: 240000.0\n"
     ]
    }
   ],
   "source": [
    "salary = int(input('Введите заработную плату в месяц'))\n",
    "mortgage = int(input('Введите сколько процентов уходит на ипотеку'))\n",
    "spend = int(input('Введите сколько процентов уходит на жизнь'))\n",
    "bonus = int(input('Введите количество премий за год'))\n",
    "\n",
    "print('На ипотеку было потречено:', salary * 12 * mortgage / 100 )\n",
    "print('Было накоплено:', (salary * 12) - (salary * 12 * mortgage / 100) - (salary * 12 * spend / 100) + (salary * bonus / 2))"
   ]
  },
  {
   "cell_type": "code",
   "execution_count": null,
   "metadata": {},
   "outputs": [],
   "source": []
  },
  {
   "cell_type": "code",
   "execution_count": null,
   "metadata": {},
   "outputs": [],
   "source": []
  }
 ],
 "metadata": {
  "kernelspec": {
   "display_name": "Python 3",
   "language": "python",
   "name": "python3"
  },
  "language_info": {
   "codemirror_mode": {
    "name": "ipython",
    "version": 3
   },
   "file_extension": ".py",
   "mimetype": "text/x-python",
   "name": "python",
   "nbconvert_exporter": "python",
   "pygments_lexer": "ipython3",
   "version": "3.7.4"
  }
 },
 "nbformat": 4,
 "nbformat_minor": 2
}
